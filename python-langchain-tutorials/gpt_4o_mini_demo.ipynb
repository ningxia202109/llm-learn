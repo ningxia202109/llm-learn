{
  "nbformat": 4,
  "nbformat_minor": 0,
  "metadata": {
    "colab": {
      "provenance": [],
      "authorship_tag": "ABX9TyOM6YoQJ5rKdNXKpR12bXyh",
      "include_colab_link": true
    },
    "kernelspec": {
      "name": "python3",
      "display_name": "Python 3"
    },
    "language_info": {
      "name": "python"
    }
  },
  "cells": [
    {
      "cell_type": "markdown",
      "metadata": {
        "id": "view-in-github",
        "colab_type": "text"
      },
      "source": [
        "<a href=\"https://colab.research.google.com/github/ningxia202109/llm-learn/blob/main/python-langchain-tutorials/gpt_4o_mini_demo.ipynb\" target=\"_parent\"><img src=\"https://colab.research.google.com/assets/colab-badge.svg\" alt=\"Open In Colab\"/></a>"
      ]
    },
    {
      "cell_type": "code",
      "execution_count": 1,
      "metadata": {
        "id": "yrkzOE_AWj7J"
      },
      "outputs": [],
      "source": [
        "# Use OpenAI\n",
        "import os\n",
        "from google.colab import userdata\n",
        "\n",
        "os.environ[\"OPENAI_API_KEY\"] = userdata.get('OPENAI_API_KEY')"
      ]
    },
    {
      "cell_type": "code",
      "source": [
        "# Install packages\n",
        "%%capture --no-stderr\n",
        "!pip install --upgrade --quiet langchain langchain_community langchain-openai"
      ],
      "metadata": {
        "id": "O1mKp6WwW5oS"
      },
      "execution_count": 2,
      "outputs": []
    },
    {
      "cell_type": "code",
      "source": [
        "from langchain_openai import ChatOpenAI\n",
        "from langchain_core.messages import HumanMessage, SystemMessage\n",
        "\n",
        "llm = ChatOpenAI(model=\"gpt-4o-mini\")\n",
        "\n",
        "# Using Language Models\n",
        "messages = [\n",
        "    SystemMessage(content=\"Translate the following from English into Chinese\"),\n",
        "    HumanMessage(content=\"Today is a good day\"),\n",
        "]\n",
        "\n",
        "# Invoke the model to generate responses\n",
        "response = llm.invoke(messages)\n",
        "print(response)\n"
      ],
      "metadata": {
        "colab": {
          "base_uri": "https://localhost:8080/"
        },
        "id": "2dZ0GiFaXVwR",
        "outputId": "87eabea8-34db-4727-ed2b-b0c4a3539a5a"
      },
      "execution_count": 3,
      "outputs": [
        {
          "output_type": "stream",
          "name": "stdout",
          "text": [
            "content='今天是个好日子。' response_metadata={'token_usage': {'completion_tokens': 7, 'prompt_tokens': 23, 'total_tokens': 30}, 'model_name': 'gpt-4o-mini-2024-07-18', 'system_fingerprint': 'fp_661538dc1f', 'finish_reason': 'stop', 'logprobs': None} id='run-977aa8fa-c1a9-4fde-9c36-e15e53850d6e-0' usage_metadata={'input_tokens': 23, 'output_tokens': 7, 'total_tokens': 30}\n"
          ]
        }
      ]
    }
  ]
}